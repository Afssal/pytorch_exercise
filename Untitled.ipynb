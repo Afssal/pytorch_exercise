{
 "cells": [
  {
   "cell_type": "code",
   "execution_count": 19,
   "id": "53b48158",
   "metadata": {},
   "outputs": [],
   "source": [
    "from torch import nn,optim\n",
    "import torch\n",
    "from torch.utils.data import Dataset,DataLoader\n",
    "import numpy as np"
   ]
  },
  {
   "cell_type": "code",
   "execution_count": 2,
   "id": "7cb4f910",
   "metadata": {},
   "outputs": [],
   "source": [
    "class Data(Dataset):\n",
    "    def __init__(self,train=True):\n",
    "        self.x=torch.arange(-3,3,0.1).view(-1,1)\n",
    "        self.y=0.1*torch.randn(self.x.size())\n",
    "        \n",
    "        if train:\n",
    "            self.x=self.x[:40]\n",
    "            self.y=self.y[:40]\n",
    "        else:\n",
    "            self.x=self.x[40:]\n",
    "            self.y=self.y[40:]\n",
    "        self.len=self.x.shape[0]\n",
    "    \n",
    "    def __getitem__(self,index):\n",
    "        return self.x[index],self.y[index]\n",
    "    \n",
    "    def __len__(self):\n",
    "        return self.len"
   ]
  },
  {
   "cell_type": "code",
   "execution_count": 3,
   "id": "cfffc745",
   "metadata": {},
   "outputs": [],
   "source": [
    "train_data=Data()\n",
    "validaton_data=Data(train=False)"
   ]
  },
  {
   "cell_type": "code",
   "execution_count": 4,
   "id": "5086ef60",
   "metadata": {},
   "outputs": [
    {
     "data": {
      "text/plain": [
       "40"
      ]
     },
     "execution_count": 4,
     "metadata": {},
     "output_type": "execute_result"
    }
   ],
   "source": [
    "len(train_data)"
   ]
  },
  {
   "cell_type": "code",
   "execution_count": 5,
   "id": "5b94a51b",
   "metadata": {},
   "outputs": [
    {
     "data": {
      "text/plain": [
       "20"
      ]
     },
     "execution_count": 5,
     "metadata": {},
     "output_type": "execute_result"
    }
   ],
   "source": [
    "len(validaton_data)"
   ]
  },
  {
   "cell_type": "code",
   "execution_count": 6,
   "id": "7444558d",
   "metadata": {},
   "outputs": [],
   "source": [
    "class Linear_regression(nn.Module):\n",
    "    def __init__(self,input_size,output_size):\n",
    "        super(Linear_regression,self).__init__()\n",
    "        self.linear=nn.Linear(input_size,output_size)\n",
    "    def forward(self,x):\n",
    "        yhat=self.linear(x)\n",
    "        return yhat"
   ]
  },
  {
   "cell_type": "code",
   "execution_count": 7,
   "id": "eb18ce41",
   "metadata": {},
   "outputs": [],
   "source": [
    "criterion=nn.MSELoss()\n",
    "trainloader=DataLoader(dataset=train_data,batch_size=2)"
   ]
  },
  {
   "cell_type": "code",
   "execution_count": 8,
   "id": "fd99511d",
   "metadata": {},
   "outputs": [],
   "source": [
    "learning_rates=[0.0001,0.001,0.01,0.1]\n",
    "train_error=torch.zeros(len(learning_rates))\n",
    "validation_error=torch.zeros(len(learning_rates))\n",
    "models=[]"
   ]
  },
  {
   "cell_type": "code",
   "execution_count": 9,
   "id": "8ab70b34",
   "metadata": {},
   "outputs": [],
   "source": [
    "def train_model(iterations,learning_rate_list):\n",
    "    for i,lr in enumerate(learning_rate_list):\n",
    "        model=Linear_regression(1,1)\n",
    "        optimizer=optim.SGD(model.parameters(),lr=lr)\n",
    "        for epoch in range(iterations):\n",
    "            for x,y in trainloader:\n",
    "                yhat=model(x)\n",
    "                loss=criterion(yhat,y)\n",
    "                optimizer.zero_grad()\n",
    "                loss.backward()\n",
    "                optimizer.step()\n",
    "        yhat=model(train_data.x)\n",
    "        train_loss=criterion(yhat,train_data.y)\n",
    "        train_error[i]=train_loss.item()\n",
    "        \n",
    "        yhat=model(validaton_data.x)\n",
    "        validation_loss=criterion(yhat,validaton_data.y)\n",
    "        validation_error[i]=validation_loss.item()\n",
    "        models.append(model)"
   ]
  },
  {
   "cell_type": "code",
   "execution_count": 10,
   "id": "ec70b697",
   "metadata": {},
   "outputs": [],
   "source": [
    "train_model(10,learning_rates)"
   ]
  },
  {
   "cell_type": "code",
   "execution_count": 11,
   "id": "7001362e",
   "metadata": {},
   "outputs": [
    {
     "data": {
      "text/plain": [
       "tensor([0.2249, 1.4618, 0.0267, 0.0141])"
      ]
     },
     "execution_count": 11,
     "metadata": {},
     "output_type": "execute_result"
    }
   ],
   "source": [
    "validation_error"
   ]
  },
  {
   "cell_type": "code",
   "execution_count": 12,
   "id": "5e2b0126",
   "metadata": {},
   "outputs": [],
   "source": [
    "val=validation_error.numpy()"
   ]
  },
  {
   "cell_type": "code",
   "execution_count": 13,
   "id": "89030463",
   "metadata": {},
   "outputs": [
    {
     "data": {
      "text/plain": [
       "array([0.22486094, 1.461799  , 0.02671857, 0.01409662], dtype=float32)"
      ]
     },
     "execution_count": 13,
     "metadata": {},
     "output_type": "execute_result"
    }
   ],
   "source": [
    "val"
   ]
  },
  {
   "cell_type": "code",
   "execution_count": 14,
   "id": "1a5eb202",
   "metadata": {},
   "outputs": [
    {
     "data": {
      "text/plain": [
       "tensor([0.1394, 0.2044, 0.0108, 0.0081])"
      ]
     },
     "execution_count": 14,
     "metadata": {},
     "output_type": "execute_result"
    }
   ],
   "source": [
    "train_error"
   ]
  },
  {
   "cell_type": "code",
   "execution_count": 15,
   "id": "e352e409",
   "metadata": {},
   "outputs": [],
   "source": [
    "train=train_error.numpy()"
   ]
  },
  {
   "cell_type": "code",
   "execution_count": 16,
   "id": "41a9f292",
   "metadata": {},
   "outputs": [
    {
     "data": {
      "text/plain": [
       "array([0.13939652, 0.2044419 , 0.01077058, 0.00809725], dtype=float32)"
      ]
     },
     "execution_count": 16,
     "metadata": {},
     "output_type": "execute_result"
    }
   ],
   "source": [
    "train"
   ]
  },
  {
   "cell_type": "code",
   "execution_count": 17,
   "id": "9bfa3d7d",
   "metadata": {},
   "outputs": [
    {
     "data": {
      "text/plain": [
       "[0.0001, 0.001, 0.01, 0.1]"
      ]
     },
     "execution_count": 17,
     "metadata": {},
     "output_type": "execute_result"
    }
   ],
   "source": [
    "learning_rates"
   ]
  },
  {
   "cell_type": "code",
   "execution_count": 21,
   "id": "6b39e99d",
   "metadata": {},
   "outputs": [],
   "source": [
    "l=np.array(learning_rates)"
   ]
  },
  {
   "cell_type": "code",
   "execution_count": 22,
   "id": "21ba53c2",
   "metadata": {},
   "outputs": [
    {
     "data": {
      "text/plain": [
       "array([0.0001, 0.001 , 0.01  , 0.1   ])"
      ]
     },
     "execution_count": 22,
     "metadata": {},
     "output_type": "execute_result"
    }
   ],
   "source": [
    "l"
   ]
  },
  {
   "cell_type": "code",
   "execution_count": 30,
   "id": "6e902a06",
   "metadata": {},
   "outputs": [
    {
     "data": {
      "image/png": "[encoded data removed]",
      "text/plain": [
       "<Figure size 640x480 with 1 Axes>"
      ]
     },
     "metadata": {},
     "output_type": "display_data"
    }
   ],
   "source": [
    "import matplotlib.pyplot as plt\n",
    "\n",
    "plt.plot(l, train, label=\"training_error\")\n",
    "plt.plot(l,val, label=\"validation_error\")\n",
    "plt.xlabel(\"learning_rate\")\n",
    "plt.ylabel(\"error\")\n",
    "plt.legend()\n",
    "plt.show()"
   ]
  },
  {
   "cell_type": "code",
   "execution_count": null,
   "id": "a88e1379",
   "metadata": {},
   "outputs": [],
   "source": []
  }
 ],
 "metadata": {
  "kernelspec": {
   "display_name": "Python 3 (ipykernel)",
   "language": "python",
   "name": "python3"
  },
  "language_info": {
   "codemirror_mode": {
    "name": "ipython",
    "version": 3
   },
   "file_extension": ".py",
   "mimetype": "text/x-python",
   "name": "python",
   "nbconvert_exporter": "python",
   "pygments_lexer": "ipython3",
   "version": "3.10.11"
  }
 },
 "nbformat": 4,
 "nbformat_minor": 5
}
