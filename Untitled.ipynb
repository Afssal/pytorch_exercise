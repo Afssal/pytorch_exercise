{
 "cells": [
  {
   "cell_type": "code",
   "execution_count": 1,
   "id": "12cf583b",
   "metadata": {},
   "outputs": [
    {
     "name": "stderr",
     "output_type": "stream",
     "text": [
      "C:\\Users\\acer\\AppData\\Local\\Packages\\PythonSoftwareFoundation.Python.3.10_qbz5n2kfra8p0\\LocalCache\\local-packages\\Python310\\site-packages\\tqdm\\auto.py:22: TqdmWarning: IProgress not found. Please update jupyter and ipywidgets. See https://ipywidgets.readthedocs.io/en/stable/user_install.html\n",
      "  from .autonotebook import tqdm as notebook_tqdm\n"
     ]
    }
   ],
   "source": [
    "from torch import nn,optim\n",
    "import torch\n",
    "from torch.utils.data import Dataset,DataLoader"
   ]
  },
  {
   "cell_type": "code",
   "execution_count": 27,
   "id": "39ee0d9c",
   "metadata": {},
   "outputs": [],
   "source": [
    "class Data(Dataset):\n",
    "    def __init__(self,train=True):\n",
    "        self.x=torch.arange(-3,3,0.1).view(-1,1)\n",
    "        self.y=0.1*torch.randn(self.x.size())\n",
    "        \n",
    "        if train:\n",
    "            self.x=self.x[:40]\n",
    "            self.y=self.y[:40]\n",
    "        else:\n",
    "            self.x=self.x[40:]\n",
    "            self.y=self.y[40:]\n",
    "        self.len=self.x.shape[0]\n",
    "    \n",
    "    def __getitem__(self,index):\n",
    "        return self.x[index],self.y[index]\n",
    "    \n",
    "    def __len__(self):\n",
    "        return self.len"
   ]
  },
  {
   "cell_type": "code",
   "execution_count": 28,
   "id": "44d9ec5f",
   "metadata": {},
   "outputs": [],
   "source": [
    "train_data=Data()\n",
    "validaton_data=Data(train=False)"
   ]
  },
  {
   "cell_type": "code",
   "execution_count": 29,
   "id": "c205d545",
   "metadata": {},
   "outputs": [
    {
     "data": {
      "text/plain": [
       "40"
      ]
     },
     "execution_count": 29,
     "metadata": {},
     "output_type": "execute_result"
    }
   ],
   "source": [
    "len(train_data)"
   ]
  },
  {
   "cell_type": "code",
   "execution_count": 30,
   "id": "1c4f218c",
   "metadata": {},
   "outputs": [
    {
     "data": {
      "text/plain": [
       "20"
      ]
     },
     "execution_count": 30,
     "metadata": {},
     "output_type": "execute_result"
    }
   ],
   "source": [
    "len(validaton_data)"
   ]
  },
  {
   "cell_type": "code",
   "execution_count": 31,
   "id": "5e2e2d85",
   "metadata": {},
   "outputs": [],
   "source": [
    "class Linear_regression(nn.Module):\n",
    "    def __init__(self,input_size,output_size):\n",
    "        super(Linear_regression,self).__init__()\n",
    "        self.linear=nn.Linear(input_size,output_size)\n",
    "    def forward(self,x):\n",
    "        yhat=self.linear(x)\n",
    "        return yhat"
   ]
  },
  {
   "cell_type": "code",
   "execution_count": null,
   "id": "308f0a75",
   "metadata": {},
   "outputs": [],
   "source": []
  }
 ],
 "metadata": {
  "kernelspec": {
   "display_name": "Python 3 (ipykernel)",
   "language": "python",
   "name": "python3"
  },
  "language_info": {
   "codemirror_mode": {
    "name": "ipython",
    "version": 3
   },
   "file_extension": ".py",
   "mimetype": "text/x-python",
   "name": "python",
   "nbconvert_exporter": "python",
   "pygments_lexer": "ipython3",
   "version": "3.10.11"
  }
 },
 "nbformat": 4,
 "nbformat_minor": 5
}
