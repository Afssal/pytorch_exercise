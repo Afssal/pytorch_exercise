{
 "cells": [
  {
   "cell_type": "code",
   "execution_count": 36,
   "id": "d2ca94da",
   "metadata": {},
   "outputs": [],
   "source": [
    "from torch import nn,optim\n",
    "import torch\n",
    "import numpy as np\n",
    "import matplotlib.pyplot as plt\n",
    "from torch.utils.data import Dataset,DataLoader"
   ]
  },
  {
   "cell_type": "code",
   "execution_count": 23,
   "id": "ec5fb375",
   "metadata": {},
   "outputs": [],
   "source": [
    "x=torch.zeros(100,2)\n",
    "x[:,0]=torch.randn(100)\n",
    "x[:,1]=torch.randn(100)\n",
    "x1=x[:70]\n",
    "y1=y[:70]"
   ]
  },
  {
   "cell_type": "code",
   "execution_count": 25,
   "id": "1b904e6b",
   "metadata": {},
   "outputs": [
    {
     "data": {
      "text/plain": [
       "torch.Size([70, 2])"
      ]
     },
     "execution_count": 25,
     "metadata": {},
     "output_type": "execute_result"
    }
   ],
   "source": [
    "x1.shape"
   ]
  },
  {
   "cell_type": "code",
   "execution_count": 37,
   "id": "da9b1573",
   "metadata": {},
   "outputs": [],
   "source": [
    "class Data(Dataset):\n",
    "    def __init__(self,train=True):\n",
    "        self.x=torch.zeros(100,2)\n",
    "        self.x[:,0]=torch.randn(100)\n",
    "        self.x[:,1]=torch.randn(100)\n",
    "        self.y=0.1*torch.randn((self.x.shape[0],1))\n",
    "        if train:\n",
    "            self.x=self.x[:70]\n",
    "            self.y=self.y[:70]\n",
    "        else:\n",
    "            self.x=self.x[70:]\n",
    "            self.y=self.y[70:]\n",
    "        self.len=self.x.shape[0]\n",
    "    \n",
    "    def __getitem__(self,index):\n",
    "        return self.x[index],self.y[index]\n",
    "    \n",
    "    def __len__(self):\n",
    "        return self.len"
   ]
  },
  {
   "cell_type": "code",
   "execution_count": 38,
   "id": "5bcc7536",
   "metadata": {},
   "outputs": [],
   "source": [
    "train_data=Data()\n",
    "validation_data=Data(train=False)"
   ]
  },
  {
   "cell_type": "code",
   "execution_count": 39,
   "id": "0140572a",
   "metadata": {},
   "outputs": [
    {
     "data": {
      "text/plain": [
       "70"
      ]
     },
     "execution_count": 39,
     "metadata": {},
     "output_type": "execute_result"
    }
   ],
   "source": [
    "len(train_data)"
   ]
  },
  {
   "cell_type": "code",
   "execution_count": 40,
   "id": "4ef8c7c9",
   "metadata": {},
   "outputs": [
    {
     "data": {
      "text/plain": [
       "30"
      ]
     },
     "execution_count": 40,
     "metadata": {},
     "output_type": "execute_result"
    }
   ],
   "source": [
    "len(validation_data)"
   ]
  },
  {
   "cell_type": "code",
   "execution_count": 41,
   "id": "72e5cfe7",
   "metadata": {},
   "outputs": [],
   "source": [
    "class LinearRegression(nn.Module):\n",
    "    def __init__(self,input_size,output_size):\n",
    "        super(LinearRegression,self).__init__()\n",
    "        self.linear=nn.Linear(input_size,output_size)\n",
    "    \n",
    "    def forward(self,x):\n",
    "        yhat=self.linear(x)\n",
    "        return yhat"
   ]
  },
  {
   "cell_type": "code",
   "execution_count": 42,
   "id": "0040822d",
   "metadata": {},
   "outputs": [],
   "source": [
    "criterion=nn.MSELoss()\n",
    "trainloader=DataLoader(dataset=train_data,batch_size=2)"
   ]
  },
  {
   "cell_type": "code",
   "execution_count": 43,
   "id": "c2f89f9d",
   "metadata": {},
   "outputs": [],
   "source": [
    "learning_rate=[0.0001,0.001,0.01,0.1]\n",
    "train_error=torch.zeros(len(learning_rate))\n",
    "validation_error=torch.zeros(len(learning_rate))\n",
    "models=[]"
   ]
  },
  {
   "cell_type": "code",
   "execution_count": 44,
   "id": "03ee8648",
   "metadata": {},
   "outputs": [],
   "source": [
    "def train_model(iteration,learning):\n",
    "    for i,lr in enumerate(learning):\n",
    "        model=LinearRegression(2,1)\n",
    "        optimizer=optim.SGD(model.parameters(),lr=lr)\n",
    "        for epoch in range(iteration):\n",
    "            for x,y in trainloader:\n",
    "                yhat=model(x)\n",
    "                loss=criterion(yhat,y)\n",
    "                optimizer.zero_grad()\n",
    "                loss.backward()\n",
    "                optimizer.step()\n",
    "        yhat=model(train_data.x)\n",
    "        train_loss=criterion(yhat,train_data.y)\n",
    "        train_error[i]=train_loss.item()\n",
    "        \n",
    "        yhat=model(validation_data.x)\n",
    "        validation_loss=criterion(yhat,validation_data.y)\n",
    "        validation_error[i]=validation_loss.item()\n",
    "        models.append(model)"
   ]
  },
  {
   "cell_type": "code",
   "execution_count": 45,
   "id": "8bc1ba9c",
   "metadata": {},
   "outputs": [],
   "source": [
    "train_model(10,learning_rate)"
   ]
  },
  {
   "cell_type": "code",
   "execution_count": 46,
   "id": "69493988",
   "metadata": {},
   "outputs": [
    {
     "data": {
      "text/plain": [
       "tensor([0.5045, 0.0320, 0.0122, 0.0132])"
      ]
     },
     "execution_count": 46,
     "metadata": {},
     "output_type": "execute_result"
    }
   ],
   "source": [
    "train_error"
   ]
  },
  {
   "cell_type": "code",
   "execution_count": 47,
   "id": "05fb92b7",
   "metadata": {},
   "outputs": [],
   "source": [
    "train=train_error.numpy()"
   ]
  },
  {
   "cell_type": "code",
   "execution_count": 48,
   "id": "44b92787",
   "metadata": {},
   "outputs": [
    {
     "data": {
      "text/plain": [
       "array([0.5045003 , 0.03198455, 0.0122335 , 0.01321622], dtype=float32)"
      ]
     },
     "execution_count": 48,
     "metadata": {},
     "output_type": "execute_result"
    }
   ],
   "source": [
    "train"
   ]
  },
  {
   "cell_type": "code",
   "execution_count": 49,
   "id": "c2e1edca",
   "metadata": {},
   "outputs": [
    {
     "data": {
      "text/plain": [
       "tensor([0.9041, 0.0251, 0.0126, 0.0150])"
      ]
     },
     "execution_count": 49,
     "metadata": {},
     "output_type": "execute_result"
    }
   ],
   "source": [
    "validation_error"
   ]
  },
  {
   "cell_type": "code",
   "execution_count": 50,
   "id": "0b344a13",
   "metadata": {},
   "outputs": [],
   "source": [
    "valid=validation_error.numpy()"
   ]
  },
  {
   "cell_type": "code",
   "execution_count": 51,
   "id": "3ff7988a",
   "metadata": {},
   "outputs": [
    {
     "data": {
      "text/plain": [
       "array([0.90407985, 0.02505676, 0.01260839, 0.01496473], dtype=float32)"
      ]
     },
     "execution_count": 51,
     "metadata": {},
     "output_type": "execute_result"
    }
   ],
   "source": [
    "valid"
   ]
  },
  {
   "cell_type": "code",
   "execution_count": 53,
   "id": "bac9af07",
   "metadata": {},
   "outputs": [
    {
     "data": {
      "text/plain": [
       "[0.0001, 0.001, 0.01, 0.1]"
      ]
     },
     "execution_count": 53,
     "metadata": {},
     "output_type": "execute_result"
    }
   ],
   "source": [
    "learning_rate"
   ]
  },
  {
   "cell_type": "code",
   "execution_count": 54,
   "id": "c5e3e4e7",
   "metadata": {},
   "outputs": [],
   "source": [
    "l=np.array(learning_rate)"
   ]
  },
  {
   "cell_type": "code",
   "execution_count": 55,
   "id": "a302ef52",
   "metadata": {},
   "outputs": [
    {
     "data": {
      "text/plain": [
       "array([0.0001, 0.001 , 0.01  , 0.1   ])"
      ]
     },
     "execution_count": 55,
     "metadata": {},
     "output_type": "execute_result"
    }
   ],
   "source": [
    "l"
   ]
  },
  {
   "cell_type": "code",
   "execution_count": 57,
   "id": "c5661d96",
   "metadata": {},
   "outputs": [
    {
     "data": {
      "image/png": "[encoded data removed]",
      "text/plain": [
       "<Figure size 640x480 with 1 Axes>"
      ]
     },
     "metadata": {},
     "output_type": "display_data"
    }
   ],
   "source": [
    "plt.plot(l,train,label='training error')\n",
    "plt.plot(l,valid,label='validation error')\n",
    "plt.xlabel('learning rate')\n",
    "plt.ylabel('error')\n",
    "plt.legend()\n",
    "plt.show()"
   ]
  },
  {
   "cell_type": "code",
   "execution_count": null,
   "id": "2b619c8f",
   "metadata": {},
   "outputs": [],
   "source": []
  }
 ],
 "metadata": {
  "kernelspec": {
   "display_name": "Python 3 (ipykernel)",
   "language": "python",
   "name": "python3"
  },
  "language_info": {
   "codemirror_mode": {
    "name": "ipython",
    "version": 3
   },
   "file_extension": ".py",
   "mimetype": "text/x-python",
   "name": "python",
   "nbconvert_exporter": "python",
   "pygments_lexer": "ipython3",
   "version": "3.10.11"
  }
 },
 "nbformat": 4,
 "nbformat_minor": 5
}
